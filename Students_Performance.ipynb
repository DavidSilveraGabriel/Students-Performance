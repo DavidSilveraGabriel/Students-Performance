{
  "nbformat": 4,
  "nbformat_minor": 0,
  "metadata": {
    "colab": {
      "provenance": [],
      "include_colab_link": true
    },
    "kernelspec": {
      "name": "python3",
      "display_name": "Python 3"
    },
    "language_info": {
      "name": "python"
    }
  },
  "cells": [
    {
      "cell_type": "markdown",
      "metadata": {
        "id": "view-in-github",
        "colab_type": "text"
      },
      "source": [
        "<a href=\"https://colab.research.google.com/github/DavidSilveraGabriel/Students-Performance/blob/main/Students_Performance.ipynb\" target=\"_parent\"><img src=\"https://colab.research.google.com/assets/colab-badge.svg\" alt=\"Open In Colab\"/></a>"
      ]
    },
    {
      "cell_type": "markdown",
      "source": [
        "# Analisis del perfomance de estudiantes\n"
      ],
      "metadata": {
        "id": "7Oh_sJ1WxkvH"
      }
    },
    {
      "cell_type": "markdown",
      "source": [
        "El [GPA](https://www.academica.school/news/como-se-calcula-el-gpa/#:~:text=El%20GPA%20(Grade%20Point%20Average,Educaci%C3%B3n%20Primaria%2C%20Secundaria%20o%20Universitaria.) (Grade Point Average) es un término utilizado para asignar un valor numérico a las calificaciones acumuladas por un estudiante en el sistema estadounidense.\n",
        "\n",
        "\n",
        "Este valor puede ser anual o agruparse por períodos académicos, como pueden ser, Educación Primaria, Secundaria o Universitaria. Este valor normalmente se calcula en una escala de 0 a 4.00 puntos. Sin embargo, en algunos casos puede ser hasta de 5.00\n"
      ],
      "metadata": {
        "id": "6wWj2uXCwJMW"
      }
    },
    {
      "cell_type": "code",
      "execution_count": null,
      "metadata": {
        "id": "KJ-asbiOwDuH"
      },
      "outputs": [],
      "source": [
        "knn\n",
        "random forest\n"
      ]
    }
  ]
}